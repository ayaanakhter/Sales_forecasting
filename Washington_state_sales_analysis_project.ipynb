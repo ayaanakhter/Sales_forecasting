{
 "cells": [
  {
   "cell_type": "markdown",
   "id": "44e4a016-1e4b-48dc-bc35-96066eed4fb6",
   "metadata": {},
   "source": [
    "# Cleaning the dataset"
   ]
  },
  {
   "cell_type": "code",
   "execution_count": 2,
   "id": "473d9300-15c6-4e6a-b29a-ee6a09e1af56",
   "metadata": {},
   "outputs": [],
   "source": [
    "import pandas as pd"
   ]
  },
  {
   "cell_type": "code",
   "execution_count": 3,
   "id": "4193bc09-5d1a-4eaf-9658-5c81e3c525a1",
   "metadata": {},
   "outputs": [],
   "source": [
    "path = \"C:/Users/ayaan/OneDrive/Desktop/DATASETS/Statewide_Contract__Master_Contract__Sales_Data_by_Customer__Contract__Vendor.csv\"\n",
    "df = pd.read_csv(path)\n"
   ]
  },
  {
   "cell_type": "code",
   "execution_count": 4,
   "id": "8a5310c3-5655-4185-ad22-895df119d7bc",
   "metadata": {},
   "outputs": [
    {
     "data": {
      "text/html": [
       "<div>\n",
       "<style scoped>\n",
       "    .dataframe tbody tr th:only-of-type {\n",
       "        vertical-align: middle;\n",
       "    }\n",
       "\n",
       "    .dataframe tbody tr th {\n",
       "        vertical-align: top;\n",
       "    }\n",
       "\n",
       "    .dataframe thead th {\n",
       "        text-align: right;\n",
       "    }\n",
       "</style>\n",
       "<table border=\"1\" class=\"dataframe\">\n",
       "  <thead>\n",
       "    <tr style=\"text-align: right;\">\n",
       "      <th></th>\n",
       "      <th>Customer Type</th>\n",
       "      <th>Customer Name</th>\n",
       "      <th>Contract Number</th>\n",
       "      <th>Contract Title</th>\n",
       "      <th>Vendor Name</th>\n",
       "      <th>Calendar Year</th>\n",
       "      <th>Q1 Sales Reported</th>\n",
       "      <th>Q2 Sales Reported</th>\n",
       "      <th>Q3 Sales Reported</th>\n",
       "      <th>Q4 Sales Reported</th>\n",
       "      <th>OMWBE</th>\n",
       "      <th>Vet Owned</th>\n",
       "      <th>Small Business</th>\n",
       "      <th>Diverse Options</th>\n",
       "    </tr>\n",
       "  </thead>\n",
       "  <tbody>\n",
       "    <tr>\n",
       "      <th>0</th>\n",
       "      <td>Higher Ed (State Agency)</td>\n",
       "      <td>YAKIMA VALLEY COLLEGE</td>\n",
       "      <td>111</td>\n",
       "      <td>Fertilizers</td>\n",
       "      <td>WILBUR-ELLIS COMPANY LLC</td>\n",
       "      <td>2015</td>\n",
       "      <td>0</td>\n",
       "      <td>0</td>\n",
       "      <td>0</td>\n",
       "      <td>1239</td>\n",
       "      <td>N</td>\n",
       "      <td>N</td>\n",
       "      <td>N</td>\n",
       "      <td>N</td>\n",
       "    </tr>\n",
       "    <tr>\n",
       "      <th>1</th>\n",
       "      <td>State Agency</td>\n",
       "      <td>NATURAL RESOURCES DEPT OF</td>\n",
       "      <td>111</td>\n",
       "      <td>Fertilizers</td>\n",
       "      <td>WILBUR-ELLIS COMPANY LLC</td>\n",
       "      <td>2015</td>\n",
       "      <td>0</td>\n",
       "      <td>0</td>\n",
       "      <td>0</td>\n",
       "      <td>1092</td>\n",
       "      <td>N</td>\n",
       "      <td>N</td>\n",
       "      <td>N</td>\n",
       "      <td>N</td>\n",
       "    </tr>\n",
       "    <tr>\n",
       "      <th>2</th>\n",
       "      <td>Higher Ed (State Agency)</td>\n",
       "      <td>COMM COLLEGES OF SPOKANE</td>\n",
       "      <td>111</td>\n",
       "      <td>Fertilizers</td>\n",
       "      <td>WILBUR-ELLIS COMPANY LLC</td>\n",
       "      <td>2015</td>\n",
       "      <td>0</td>\n",
       "      <td>1604</td>\n",
       "      <td>0</td>\n",
       "      <td>0</td>\n",
       "      <td>N</td>\n",
       "      <td>N</td>\n",
       "      <td>N</td>\n",
       "      <td>N</td>\n",
       "    </tr>\n",
       "    <tr>\n",
       "      <th>3</th>\n",
       "      <td>School Districts</td>\n",
       "      <td>BELLEVUE SCH DIST 405</td>\n",
       "      <td>111</td>\n",
       "      <td>Fertilizers</td>\n",
       "      <td>WILBUR-ELLIS COMPANY LLC</td>\n",
       "      <td>2015</td>\n",
       "      <td>3133</td>\n",
       "      <td>2089</td>\n",
       "      <td>0</td>\n",
       "      <td>1031</td>\n",
       "      <td>N</td>\n",
       "      <td>N</td>\n",
       "      <td>N</td>\n",
       "      <td>N</td>\n",
       "    </tr>\n",
       "    <tr>\n",
       "      <th>4</th>\n",
       "      <td>Higher Ed (State Agency)</td>\n",
       "      <td>EASTERN WASH UNIV</td>\n",
       "      <td>111</td>\n",
       "      <td>Fertilizers</td>\n",
       "      <td>WILBUR-ELLIS COMPANY LLC</td>\n",
       "      <td>2015</td>\n",
       "      <td>0</td>\n",
       "      <td>6137</td>\n",
       "      <td>0</td>\n",
       "      <td>10004</td>\n",
       "      <td>N</td>\n",
       "      <td>N</td>\n",
       "      <td>N</td>\n",
       "      <td>N</td>\n",
       "    </tr>\n",
       "  </tbody>\n",
       "</table>\n",
       "</div>"
      ],
      "text/plain": [
       "              Customer Type              Customer Name  Contract Number  \\\n",
       "0  Higher Ed (State Agency)      YAKIMA VALLEY COLLEGE              111   \n",
       "1              State Agency  NATURAL RESOURCES DEPT OF              111   \n",
       "2  Higher Ed (State Agency)   COMM COLLEGES OF SPOKANE              111   \n",
       "3          School Districts      BELLEVUE SCH DIST 405              111   \n",
       "4  Higher Ed (State Agency)          EASTERN WASH UNIV              111   \n",
       "\n",
       "  Contract Title               Vendor Name  Calendar Year  Q1 Sales Reported  \\\n",
       "0    Fertilizers  WILBUR-ELLIS COMPANY LLC           2015                  0   \n",
       "1    Fertilizers  WILBUR-ELLIS COMPANY LLC           2015                  0   \n",
       "2    Fertilizers  WILBUR-ELLIS COMPANY LLC           2015                  0   \n",
       "3    Fertilizers  WILBUR-ELLIS COMPANY LLC           2015               3133   \n",
       "4    Fertilizers  WILBUR-ELLIS COMPANY LLC           2015                  0   \n",
       "\n",
       "   Q2 Sales Reported  Q3 Sales Reported  Q4 Sales Reported OMWBE Vet Owned  \\\n",
       "0                  0                  0               1239     N         N   \n",
       "1                  0                  0               1092     N         N   \n",
       "2               1604                  0                  0     N         N   \n",
       "3               2089                  0               1031     N         N   \n",
       "4               6137                  0              10004     N         N   \n",
       "\n",
       "  Small Business Diverse Options  \n",
       "0              N               N  \n",
       "1              N               N  \n",
       "2              N               N  \n",
       "3              N               N  \n",
       "4              N               N  "
      ]
     },
     "execution_count": 4,
     "metadata": {},
     "output_type": "execute_result"
    }
   ],
   "source": [
    "df.head()"
   ]
  },
  {
   "cell_type": "code",
   "execution_count": 5,
   "id": "9352419c-32eb-419e-8c87-d4fb4db97607",
   "metadata": {},
   "outputs": [
    {
     "data": {
      "text/html": [
       "<div>\n",
       "<style scoped>\n",
       "    .dataframe tbody tr th:only-of-type {\n",
       "        vertical-align: middle;\n",
       "    }\n",
       "\n",
       "    .dataframe tbody tr th {\n",
       "        vertical-align: top;\n",
       "    }\n",
       "\n",
       "    .dataframe thead th {\n",
       "        text-align: right;\n",
       "    }\n",
       "</style>\n",
       "<table border=\"1\" class=\"dataframe\">\n",
       "  <thead>\n",
       "    <tr style=\"text-align: right;\">\n",
       "      <th></th>\n",
       "      <th>Customer Type</th>\n",
       "      <th>Customer Name</th>\n",
       "      <th>Contract Number</th>\n",
       "      <th>Contract Title</th>\n",
       "      <th>Vendor Name</th>\n",
       "      <th>Calendar Year</th>\n",
       "      <th>Q1 Sales Reported</th>\n",
       "      <th>Q2 Sales Reported</th>\n",
       "      <th>Q3 Sales Reported</th>\n",
       "      <th>Q4 Sales Reported</th>\n",
       "      <th>OMWBE</th>\n",
       "      <th>Vet Owned</th>\n",
       "      <th>Small Business</th>\n",
       "      <th>Diverse Options</th>\n",
       "    </tr>\n",
       "  </thead>\n",
       "  <tbody>\n",
       "    <tr>\n",
       "      <th>216741</th>\n",
       "      <td>Federal Government</td>\n",
       "      <td>HEALTH &amp; HUMAN SERVICES DEPT</td>\n",
       "      <td>29723</td>\n",
       "      <td>Doors, Frames, &amp; Hardware</td>\n",
       "      <td>ANIXTER INC.</td>\n",
       "      <td>2024</td>\n",
       "      <td>0</td>\n",
       "      <td>0</td>\n",
       "      <td>0</td>\n",
       "      <td>116</td>\n",
       "      <td>N</td>\n",
       "      <td>N</td>\n",
       "      <td>N</td>\n",
       "      <td>Y</td>\n",
       "    </tr>\n",
       "    <tr>\n",
       "      <th>216742</th>\n",
       "      <td>Cities Including Towns</td>\n",
       "      <td>PASCO CITY OF</td>\n",
       "      <td>29723</td>\n",
       "      <td>Doors, Frames, &amp; Hardware</td>\n",
       "      <td>ANIXTER INC.</td>\n",
       "      <td>2024</td>\n",
       "      <td>0</td>\n",
       "      <td>0</td>\n",
       "      <td>0</td>\n",
       "      <td>568</td>\n",
       "      <td>N</td>\n",
       "      <td>N</td>\n",
       "      <td>N</td>\n",
       "      <td>Y</td>\n",
       "    </tr>\n",
       "    <tr>\n",
       "      <th>216743</th>\n",
       "      <td>Enterprise Services</td>\n",
       "      <td>ENTERPRISE SERVICES DEPT OF</td>\n",
       "      <td>29723</td>\n",
       "      <td>Doors, Frames, &amp; Hardware</td>\n",
       "      <td>ANIXTER INC.</td>\n",
       "      <td>2024</td>\n",
       "      <td>0</td>\n",
       "      <td>0</td>\n",
       "      <td>0</td>\n",
       "      <td>3175</td>\n",
       "      <td>N</td>\n",
       "      <td>N</td>\n",
       "      <td>N</td>\n",
       "      <td>Y</td>\n",
       "    </tr>\n",
       "    <tr>\n",
       "      <th>216744</th>\n",
       "      <td>County</td>\n",
       "      <td>CLARK COUNTY</td>\n",
       "      <td>29723</td>\n",
       "      <td>Doors, Frames, &amp; Hardware</td>\n",
       "      <td>ANIXTER INC.</td>\n",
       "      <td>2024</td>\n",
       "      <td>0</td>\n",
       "      <td>0</td>\n",
       "      <td>0</td>\n",
       "      <td>4282</td>\n",
       "      <td>N</td>\n",
       "      <td>N</td>\n",
       "      <td>N</td>\n",
       "      <td>Y</td>\n",
       "    </tr>\n",
       "    <tr>\n",
       "      <th>216745</th>\n",
       "      <td>Customers</td>\n",
       "      <td>NaN</td>\n",
       "      <td>29723</td>\n",
       "      <td>Doors, Frames, &amp; Hardware</td>\n",
       "      <td>RAE SECURITY, INC</td>\n",
       "      <td>2024</td>\n",
       "      <td>0</td>\n",
       "      <td>0</td>\n",
       "      <td>0</td>\n",
       "      <td>0</td>\n",
       "      <td>N</td>\n",
       "      <td>N</td>\n",
       "      <td>N</td>\n",
       "      <td>Y</td>\n",
       "    </tr>\n",
       "  </tbody>\n",
       "</table>\n",
       "</div>"
      ],
      "text/plain": [
       "                 Customer Type                 Customer Name  Contract Number  \\\n",
       "216741      Federal Government  HEALTH & HUMAN SERVICES DEPT            29723   \n",
       "216742  Cities Including Towns                 PASCO CITY OF            29723   \n",
       "216743     Enterprise Services   ENTERPRISE SERVICES DEPT OF            29723   \n",
       "216744                  County                  CLARK COUNTY            29723   \n",
       "216745               Customers                           NaN            29723   \n",
       "\n",
       "                   Contract Title        Vendor Name  Calendar Year  \\\n",
       "216741  Doors, Frames, & Hardware       ANIXTER INC.           2024   \n",
       "216742  Doors, Frames, & Hardware       ANIXTER INC.           2024   \n",
       "216743  Doors, Frames, & Hardware       ANIXTER INC.           2024   \n",
       "216744  Doors, Frames, & Hardware       ANIXTER INC.           2024   \n",
       "216745  Doors, Frames, & Hardware  RAE SECURITY, INC           2024   \n",
       "\n",
       "        Q1 Sales Reported  Q2 Sales Reported  Q3 Sales Reported  \\\n",
       "216741                  0                  0                  0   \n",
       "216742                  0                  0                  0   \n",
       "216743                  0                  0                  0   \n",
       "216744                  0                  0                  0   \n",
       "216745                  0                  0                  0   \n",
       "\n",
       "        Q4 Sales Reported OMWBE Vet Owned Small Business Diverse Options  \n",
       "216741                116     N         N              N               Y  \n",
       "216742                568     N         N              N               Y  \n",
       "216743               3175     N         N              N               Y  \n",
       "216744               4282     N         N              N               Y  \n",
       "216745                  0     N         N              N               Y  "
      ]
     },
     "execution_count": 5,
     "metadata": {},
     "output_type": "execute_result"
    }
   ],
   "source": [
    "df.tail()"
   ]
  },
  {
   "cell_type": "code",
   "execution_count": 6,
   "id": "698e66e7-93f8-4e41-b9eb-59d1e232dec0",
   "metadata": {},
   "outputs": [
    {
     "name": "stdout",
     "output_type": "stream",
     "text": [
      "<class 'pandas.core.frame.DataFrame'>\n",
      "RangeIndex: 216746 entries, 0 to 216745\n",
      "Data columns (total 14 columns):\n",
      " #   Column             Non-Null Count   Dtype \n",
      "---  ------             --------------   ----- \n",
      " 0   Customer Type      216746 non-null  object\n",
      " 1   Customer Name      204442 non-null  object\n",
      " 2   Contract Number    216746 non-null  int64 \n",
      " 3   Contract Title     216746 non-null  object\n",
      " 4   Vendor Name        216746 non-null  object\n",
      " 5   Calendar Year      216746 non-null  int64 \n",
      " 6   Q1 Sales Reported  216746 non-null  int64 \n",
      " 7   Q2 Sales Reported  216746 non-null  int64 \n",
      " 8   Q3 Sales Reported  216746 non-null  int64 \n",
      " 9   Q4 Sales Reported  216746 non-null  int64 \n",
      " 10  OMWBE              216746 non-null  object\n",
      " 11  Vet Owned          216746 non-null  object\n",
      " 12  Small Business     216746 non-null  object\n",
      " 13  Diverse Options    216746 non-null  object\n",
      "dtypes: int64(6), object(8)\n",
      "memory usage: 23.2+ MB\n"
     ]
    }
   ],
   "source": [
    "df.info()"
   ]
  },
  {
   "cell_type": "code",
   "execution_count": 7,
   "id": "219bb7f7-da47-4920-8cf8-87fb834c248f",
   "metadata": {},
   "outputs": [
    {
     "data": {
      "text/plain": [
       "Index(['Customer Type', 'Customer Name', 'Contract Number', 'Contract Title',\n",
       "       'Vendor Name', 'Calendar Year', 'Q1 Sales Reported',\n",
       "       'Q2 Sales Reported', 'Q3 Sales Reported', 'Q4 Sales Reported', 'OMWBE',\n",
       "       'Vet Owned', 'Small Business', 'Diverse Options'],\n",
       "      dtype='object')"
      ]
     },
     "execution_count": 7,
     "metadata": {},
     "output_type": "execute_result"
    }
   ],
   "source": [
    "df.columns"
   ]
  },
  {
   "cell_type": "code",
   "execution_count": 8,
   "id": "e2b29e54-c6e6-4e31-88dd-ab8722171256",
   "metadata": {},
   "outputs": [
    {
     "name": "stdout",
     "output_type": "stream",
     "text": [
      "Number of columns =  14\n"
     ]
    }
   ],
   "source": [
    "l=df.columns\n",
    "print(\"Number of columns = \",len(l))"
   ]
  },
  {
   "cell_type": "code",
   "execution_count": 9,
   "id": "5aabf789-6121-46cc-a398-3ab935262ea5",
   "metadata": {},
   "outputs": [
    {
     "name": "stdout",
     "output_type": "stream",
     "text": [
      "Number of missing values per column is as follows :-- Customer Type            0\n",
      "Customer Name        12304\n",
      "Contract Number          0\n",
      "Contract Title           0\n",
      "Vendor Name              0\n",
      "Calendar Year            0\n",
      "Q1 Sales Reported        0\n",
      "Q2 Sales Reported        0\n",
      "Q3 Sales Reported        0\n",
      "Q4 Sales Reported        0\n",
      "OMWBE                    0\n",
      "Vet Owned                0\n",
      "Small Business           0\n",
      "Diverse Options          0\n",
      "dtype: int64\n"
     ]
    }
   ],
   "source": [
    "print(\"Number of missing values per column is as follows :--\", df.isnull().sum())"
   ]
  },
  {
   "cell_type": "code",
   "execution_count": 10,
   "id": "85abdbf2-4859-4137-9b59-37fbde017ff0",
   "metadata": {},
   "outputs": [],
   "source": [
    "df=df.dropna(subset=[\"Customer Name\"])"
   ]
  },
  {
   "cell_type": "code",
   "execution_count": 11,
   "id": "c7fde449-1c86-448b-9733-efdff8d19dd2",
   "metadata": {},
   "outputs": [
    {
     "name": "stdout",
     "output_type": "stream",
     "text": [
      "Customer Type        0\n",
      "Customer Name        0\n",
      "Contract Number      0\n",
      "Contract Title       0\n",
      "Vendor Name          0\n",
      "Calendar Year        0\n",
      "Q1 Sales Reported    0\n",
      "Q2 Sales Reported    0\n",
      "Q3 Sales Reported    0\n",
      "Q4 Sales Reported    0\n",
      "OMWBE                0\n",
      "Vet Owned            0\n",
      "Small Business       0\n",
      "Diverse Options      0\n",
      "dtype: int64\n"
     ]
    }
   ],
   "source": [
    "print(df.isnull().sum())"
   ]
  },
  {
   "cell_type": "code",
   "execution_count": 12,
   "id": "57e701b4-791a-40cd-8c32-fe855f3bcc69",
   "metadata": {},
   "outputs": [
    {
     "name": "stdout",
     "output_type": "stream",
     "text": [
      "0\n"
     ]
    }
   ],
   "source": [
    "print(df.duplicated().sum())"
   ]
  },
  {
   "cell_type": "code",
   "execution_count": 13,
   "id": "df13e930-5965-459a-8f1d-db16f18f9c2a",
   "metadata": {},
   "outputs": [
    {
     "name": "stdout",
     "output_type": "stream",
     "text": [
      "Customer Type        object\n",
      "Customer Name        object\n",
      "Contract Number       int64\n",
      "Contract Title       object\n",
      "Vendor Name          object\n",
      "Calendar Year         int64\n",
      "Q1 Sales Reported     int64\n",
      "Q2 Sales Reported     int64\n",
      "Q3 Sales Reported     int64\n",
      "Q4 Sales Reported     int64\n",
      "OMWBE                object\n",
      "Vet Owned            object\n",
      "Small Business       object\n",
      "Diverse Options      object\n",
      "dtype: object\n"
     ]
    }
   ],
   "source": [
    "print(df.dtypes)"
   ]
  },
  {
   "cell_type": "code",
   "execution_count": 14,
   "id": "f0ea4665-f745-46bc-8d44-23325db007e2",
   "metadata": {},
   "outputs": [
    {
     "name": "stdout",
     "output_type": "stream",
     "text": [
      "Q1 Sales Reported    int64\n",
      "Q2 Sales Reported    int64\n",
      "Q3 Sales Reported    int64\n",
      "Q4 Sales Reported    int64\n",
      "dtype: object\n"
     ]
    }
   ],
   "source": [
    "sales_columns=[\"Q1 Sales Reported\", \"Q2 Sales Reported\" , \"Q3 Sales Reported\" , \"Q4 Sales Reported\"]\n",
    "print(df[sales_columns].dtypes)"
   ]
  },
  {
   "cell_type": "markdown",
   "id": "0d33bc19-3238-424f-86c7-1f7c86589d09",
   "metadata": {},
   "source": [
    "# Visualising Yearly trend"
   ]
  },
  {
   "cell_type": "code",
   "execution_count": 15,
   "id": "9ef462e3-977f-4693-afa4-7fc8bb0ebab3",
   "metadata": {},
   "outputs": [],
   "source": [
    "import matplotlib.pyplot as plt\n",
    "import seaborn as sns"
   ]
  },
  {
   "cell_type": "code",
   "execution_count": 16,
   "id": "c36856b6-463e-4ecb-9e0b-939bbf73dd95",
   "metadata": {},
   "outputs": [
    {
     "data": {
      "image/png": "[encoded data removed]",
      "text/plain": [
       "<Figure size 1000x500 with 1 Axes>"
      ]
     },
     "metadata": {},
     "output_type": "display_data"
    }
   ],
   "source": [
    "import matplotlib.pyplot as plt\n",
    "df[\"Total Sales\"] = df[\"Q1 Sales Reported\"] + df[\"Q2 Sales Reported\"] + df[\"Q3 Sales Reported\"] + df[\"Q4 Sales Reported\"]\n",
    "yearly_sales = df.groupby(\"Calendar Year\")[\"Total Sales\"].sum()\n",
    "plt.figure(figsize=(10,5))\n",
    "plt.plot(yearly_sales.index, yearly_sales.values, marker='o', linestyle='-')\n",
    "plt.xlabel(\"Year\")\n",
    "plt.ylabel(\"Total Sales\")\n",
    "plt.title(\"Yearly Sales Trend\")\n",
    "plt.grid(True)\n",
    "plt.show()\n"
   ]
  },
  {
   "cell_type": "markdown",
   "id": "69f686f7-6636-4cd6-b308-40bea79e94ea",
   "metadata": {},
   "source": [
    "# Training a Linear Regression Model on the dataset"
   ]
  },
  {
   "cell_type": "code",
   "execution_count": 47,
   "id": "e8d5091d-07ee-4959-bab6-d4eb4950e5a1",
   "metadata": {},
   "outputs": [
    {
     "name": "stdout",
     "output_type": "stream",
     "text": [
      "Predicted Sales for 2025 =  2788808402.665863\n"
     ]
    }
   ],
   "source": [
    "from sklearn.model_selection import train_test_split\n",
    "from sklearn.linear_model import LinearRegression\n",
    "import numpy as np\n",
    "yearly_sales = df.groupby(\"Calendar Year\")[\"Total Sales\"].sum().reset_index() #this line ensures that Calender Year is acessed as a column\n",
    "\n",
    "\n",
    "X = yearly_sales[\"Calendar Year\"].values.reshape(-1, 1) \n",
    "y = yearly_sales[\"Total Sales\"].values\n",
    "\n",
    "X_train, X_test, y_train, y_test = train_test_split(X, y, test_size=0.3, random_state=42) #splitting into 70% to 30% \n",
    "\n",
    "model = LinearRegression()\n",
    "model.fit(X_train, y_train)\n",
    "\n",
    "year = np.array([[2025]])\n",
    "predictedsales2025 = model.predict(year)[0]\n",
    "print(\"Predicted Sales for 2025 = \",predictedsales2025)\n"
   ]
  },
  {
   "cell_type": "code",
   "execution_count": null,
   "id": "312060e1-56c3-4421-a9e8-a9c393018550",
   "metadata": {},
   "outputs": [],
   "source": [
    "#getting around 27Billion predicted sales according to linear regression"
   ]
  },
  {
   "cell_type": "code",
   "execution_count": null,
   "id": "812874b3-6148-426a-941b-db61ac1bfb1b",
   "metadata": {},
   "outputs": [],
   "source": [
    "#to haandle increasing and decresing speeding trends a Poolynomial Regression model might work better"
   ]
  },
  {
   "cell_type": "markdown",
   "id": "ef94dfcd-ad7f-4c1e-8876-1f8165d1a57a",
   "metadata": {},
   "source": [
    "# Training a Polynomial Regression Model"
   ]
  },
  {
   "cell_type": "code",
   "execution_count": 51,
   "id": "9a9ccb66-3fd7-45e5-8505-1a2607f32495",
   "metadata": {},
   "outputs": [
    {
     "name": "stdout",
     "output_type": "stream",
     "text": [
      "Predicted Sales for 2025 =  3225073549.84375\n"
     ]
    }
   ],
   "source": [
    "from sklearn.preprocessing import PolynomialFeatures\n",
    "from sklearn.linear_model import LinearRegression\n",
    "from sklearn.model_selection import train_test_split\n",
    "import numpy as np\n",
    "\n",
    "yearly_sales = df.groupby(\"Calendar Year\")[\"Total Sales\"].sum().reset_index()\n",
    "\n",
    "X = yearly_sales[\"Calendar Year\"].values.reshape(-1, 1) \n",
    "y = yearly_sales[\"Total Sales\"].values\n",
    "\n",
    "X_train, X_test, y_train, y_test = train_test_split(X, y, test_size=0.3, random_state=42) #30% to 70% split\n",
    "\n",
    "poly = PolynomialFeatures(degree=2)\n",
    "X_train_poly = poly.fit_transform(X_train)\n",
    "X_test_poly = poly.transform(X_test)\n",
    "\n",
    "poly_model = LinearRegression()\n",
    "poly_model.fit(X_train_poly, y_train)\n",
    "\n",
    "future_year_poly = poly.transform(np.array([[2025]])) \n",
    "predictedsales2025pr = poly_model.predict(future_year_poly)[0]\n",
    "print(\"Predicted Sales for 2025 = \",predictedsales2025pr)\n"
   ]
  },
  {
   "cell_type": "code",
   "execution_count": null,
   "id": "b743be2c-36cd-424e-b35a-788bcc1fe788",
   "metadata": {},
   "outputs": [],
   "source": [
    "#We are getting around 32 Billion sales prediction according to Polynomial regression model"
   ]
  },
  {
   "cell_type": "code",
   "execution_count": 39,
   "id": "e65c0c55-7b90-42f2-93c9-4ae870e66231",
   "metadata": {},
   "outputs": [
    {
     "data": {
      "image/png": "[encoded data removed]",
      "text/plain": [
       "<Figure size 1000x600 with 1 Axes>"
      ]
     },
     "metadata": {},
     "output_type": "display_data"
    }
   ],
   "source": [
    "import numpy as np\n",
    "import matplotlib.pyplot as plt\n",
    "import seaborn as sns\n",
    "yearly_sales = df.groupby(\"Calendar Year\")[\"Total Sales\"].sum().reset_index()\n",
    "plt.figure(figsize=(10, 6))\n",
    "sns.scatterplot(x=yearly_sales[\"Calendar Year\"], y=yearly_sales[\"Total Sales\"], color=\"black\", label=\"Actual Sales\")\n",
    "future_years = np.arange(yearly_sales[\"Calendar Year\"].min(), 2026, 1).reshape(-1, 1)\n",
    "linear_trend = model.predict(future_years)  \n",
    "plt.plot(future_years, linear_trend, label=\"Linear Regression\", linestyle=\"--\", color=\"blue\")\n",
    "poly_trend = poly_model.predict(poly.transform(future_years))\n",
    "plt.plot(future_years, poly_trend, label=\"Polynomial Regression\", linestyle=\"-\", color=\"red\")\n",
    "plt.scatter(2025, predicted_sales_2025, color=\"blue\", marker=\"o\", s=100, label=\"Linear 2025 Prediction\")\n",
    "plt.scatter(2025, predicted_sales_2025_poly, color=\"red\", marker=\"o\", s=100, label=\"Polynomial 2025 Prediction\")\n",
    "plt.title(\"Sales Forecasting: Linear vs. Polynomial Regression\", fontsize=14)\n",
    "plt.xlabel(\"Year\", fontsize=12)\n",
    "plt.ylabel(\"Total Sales ($)\", fontsize=12)\n",
    "plt.legend()\n",
    "plt.grid(True)\n",
    "plt.show()\n"
   ]
  },
  {
   "cell_type": "code",
   "execution_count": null,
   "id": "ea1a9c60-4494-40cc-a3d7-a92f8864ffcf",
   "metadata": {},
   "outputs": [],
   "source": []
  }
 ],
 "metadata": {
  "kernelspec": {
   "display_name": "Python 3 (ipykernel)",
   "language": "python",
   "name": "python3"
  },
  "language_info": {
   "codemirror_mode": {
    "name": "ipython",
    "version": 3
   },
   "file_extension": ".py",
   "mimetype": "text/x-python",
   "name": "python",
   "nbconvert_exporter": "python",
   "pygments_lexer": "ipython3",
   "version": "3.11.7"
  }
 },
 "nbformat": 4,
 "nbformat_minor": 5
}
